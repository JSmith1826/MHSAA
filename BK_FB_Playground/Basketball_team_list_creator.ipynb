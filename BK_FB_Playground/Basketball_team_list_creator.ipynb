{
 "cells": [
  {
   "cell_type": "code",
   "execution_count": 1,
   "metadata": {},
   "outputs": [],
   "source": [
    "## Notebook to parse MHSAA Interactive brackets (Basketball)\n",
    "\n",
    "# want to return a the basketball team names, IDs, and division assignment of teams\n",
    "# active in the current year\n",
    "\n",
    "# Dependencies\n",
    "import pandas as pd\n",
    "import os\n",
    "import requests\n",
    "import bs4 as BeautifulSoup\n",
    "from collections import OrderedDict\n",
    "\n"
   ]
  },
  {
   "cell_type": "code",
   "execution_count": 2,
   "metadata": {},
   "outputs": [
    {
     "name": "stdout",
     "output_type": "stream",
     "text": [
      "['https://my.mhsaa.com/Sports/MHSAA-Tournament-Brackets/BracketGroup/1/SportSeasonId/421658/Classification/1', 'https://my.mhsaa.com/Sports/MHSAA-Tournament-Brackets/BracketGroup/1/SportSeasonId/421658/Classification/2', 'https://my.mhsaa.com/Sports/MHSAA-Tournament-Brackets/BracketGroup/1/SportSeasonId/421658/Classification/3', 'https://my.mhsaa.com/Sports/MHSAA-Tournament-Brackets/BracketGroup/1/SportSeasonId/421658/Classification/4', 'https://my.mhsaa.com/Sports/MHSAA-Tournament-Brackets/BracketGroup/2/SportSeasonId/421658/Classification/1', 'https://my.mhsaa.com/Sports/MHSAA-Tournament-Brackets/BracketGroup/2/SportSeasonId/421658/Classification/2', 'https://my.mhsaa.com/Sports/MHSAA-Tournament-Brackets/BracketGroup/2/SportSeasonId/421658/Classification/3', 'https://my.mhsaa.com/Sports/MHSAA-Tournament-Brackets/BracketGroup/2/SportSeasonId/421658/Classification/4', 'https://my.mhsaa.com/Sports/MHSAA-Tournament-Brackets/BracketGroup/3/SportSeasonId/421658/Classification/1', 'https://my.mhsaa.com/Sports/MHSAA-Tournament-Brackets/BracketGroup/3/SportSeasonId/421658/Classification/2', 'https://my.mhsaa.com/Sports/MHSAA-Tournament-Brackets/BracketGroup/3/SportSeasonId/421658/Classification/3', 'https://my.mhsaa.com/Sports/MHSAA-Tournament-Brackets/BracketGroup/3/SportSeasonId/421658/Classification/4', 'https://my.mhsaa.com/Sports/MHSAA-Tournament-Brackets/BracketGroup/4/SportSeasonId/421658/Classification/1', 'https://my.mhsaa.com/Sports/MHSAA-Tournament-Brackets/BracketGroup/4/SportSeasonId/421658/Classification/2', 'https://my.mhsaa.com/Sports/MHSAA-Tournament-Brackets/BracketGroup/4/SportSeasonId/421658/Classification/3', 'https://my.mhsaa.com/Sports/MHSAA-Tournament-Brackets/BracketGroup/4/SportSeasonId/421658/Classification/4', 'https://my.mhsaa.com/Sports/MHSAA-Tournament-Brackets/BracketGroup/5/SportSeasonId/421658/Classification/1', 'https://my.mhsaa.com/Sports/MHSAA-Tournament-Brackets/BracketGroup/5/SportSeasonId/421658/Classification/2', 'https://my.mhsaa.com/Sports/MHSAA-Tournament-Brackets/BracketGroup/5/SportSeasonId/421658/Classification/3', 'https://my.mhsaa.com/Sports/MHSAA-Tournament-Brackets/BracketGroup/5/SportSeasonId/421658/Classification/4', 'https://my.mhsaa.com/Sports/MHSAA-Tournament-Brackets/BracketGroup/6/SportSeasonId/421658/Classification/1', 'https://my.mhsaa.com/Sports/MHSAA-Tournament-Brackets/BracketGroup/6/SportSeasonId/421658/Classification/2', 'https://my.mhsaa.com/Sports/MHSAA-Tournament-Brackets/BracketGroup/6/SportSeasonId/421658/Classification/3', 'https://my.mhsaa.com/Sports/MHSAA-Tournament-Brackets/BracketGroup/6/SportSeasonId/421658/Classification/4', 'https://my.mhsaa.com/Sports/MHSAA-Tournament-Brackets/BracketGroup/7/SportSeasonId/421658/Classification/1', 'https://my.mhsaa.com/Sports/MHSAA-Tournament-Brackets/BracketGroup/7/SportSeasonId/421658/Classification/2', 'https://my.mhsaa.com/Sports/MHSAA-Tournament-Brackets/BracketGroup/7/SportSeasonId/421658/Classification/3', 'https://my.mhsaa.com/Sports/MHSAA-Tournament-Brackets/BracketGroup/7/SportSeasonId/421658/Classification/4', 'https://my.mhsaa.com/Sports/MHSAA-Tournament-Brackets/BracketGroup/8/SportSeasonId/421658/Classification/1', 'https://my.mhsaa.com/Sports/MHSAA-Tournament-Brackets/BracketGroup/8/SportSeasonId/421658/Classification/2', 'https://my.mhsaa.com/Sports/MHSAA-Tournament-Brackets/BracketGroup/8/SportSeasonId/421658/Classification/3', 'https://my.mhsaa.com/Sports/MHSAA-Tournament-Brackets/BracketGroup/8/SportSeasonId/421658/Classification/4']\n"
     ]
    },
    {
     "data": {
      "text/plain": [
       "32"
      ]
     },
     "execution_count": 2,
     "metadata": {},
     "output_type": "execute_result"
    }
   ],
   "source": [
    "## URLS\n",
    "\n",
    "# div_1_example = 'https://my.mhsaa.com/Sports/MHSAA-Tournament-Brackets/BracketGroup/9/SportSeasonId/421658/Classification/1'\n",
    "\n",
    "\n",
    "\n",
    "url_1 = 'https://my.mhsaa.com/Sports/MHSAA-Tournament-Brackets/BracketGroup/'\n",
    "\n",
    "# Spot 1 will be 1-8 to get all districts\n",
    "dist_num = range(1,9)\n",
    "\n",
    "url_2 = '/SportSeasonId/421658/Classification/'\n",
    "\n",
    "## Division numbers will be 1-4\n",
    "div_num = range(1,5)\n",
    "\n",
    "\n",
    "## Create a list of urls to iterate through\n",
    "url_list = []\n",
    "\n",
    "for dist in dist_num:\n",
    "    for div in div_num:\n",
    "        url_list.append(url_1 + str(dist) + url_2 + str(div))\n",
    "\n",
    "print(url_list)\n",
    "\n",
    "len(url_list)"
   ]
  },
  {
   "cell_type": "code",
   "execution_count": 3,
   "metadata": {},
   "outputs": [],
   "source": [
    "## Create a function to go through each url and return the team names and division\n",
    "\n",
    "def get_team_names(url):\n",
    "    response = requests.get(url)\n",
    "    soup = BeautifulSoup.BeautifulSoup(response.text, 'html.parser')\n",
    "    school_names_elements = soup.find_all('span', class_='tournschoolhov')\n",
    "\n",
    "    # create a list of cleaned school names\n",
    "    school_names = [name.contents[0].strip() for name in school_names_elements if name.contents[0].strip() != \"\"]\n",
    "\n",
    "    # remove duplicates by using an OrderedDict, then convert the keys back to a list\n",
    "    unique_school_names = list(OrderedDict.fromkeys(school_names))\n",
    "\n",
    "    # create a dataframe of the school names - assign the division based on the url\n",
    "    df = pd.DataFrame(unique_school_names, columns=['School Name'])\n",
    "    df['Division'] = url[-1]\n",
    "\n",
    "    return df\n",
    "\n",
    "## run the function on the list of urls\n",
    "df_list = [get_team_names(url) for url in url_list]\n",
    "\n",
    "## concatenate the list of dataframes into one dataframe\n",
    "df = pd.concat(df_list)\n",
    "\n",
    "## reset the index\n",
    "df.reset_index(drop=True, inplace=True)\n",
    "\n"
   ]
  },
  {
   "cell_type": "code",
   "execution_count": null,
   "metadata": {},
   "outputs": [],
   "source": [
    "\n",
    "\n"
   ]
  },
  {
   "cell_type": "code",
   "execution_count": 4,
   "metadata": {},
   "outputs": [
    {
     "name": "stdout",
     "output_type": "stream",
     "text": [
      "<class 'pandas.core.frame.DataFrame'>\n",
      "RangeIndex: 710 entries, 0 to 709\n",
      "Data columns (total 2 columns):\n",
      " #   Column       Non-Null Count  Dtype \n",
      "---  ------       --------------  ----- \n",
      " 0   School Name  710 non-null    object\n",
      " 1   Division     710 non-null    object\n",
      "dtypes: object(2)\n",
      "memory usage: 11.2+ KB\n"
     ]
    },
    {
     "data": {
      "text/html": [
       "<div>\n",
       "<style scoped>\n",
       "    .dataframe tbody tr th:only-of-type {\n",
       "        vertical-align: middle;\n",
       "    }\n",
       "\n",
       "    .dataframe tbody tr th {\n",
       "        vertical-align: top;\n",
       "    }\n",
       "\n",
       "    .dataframe thead th {\n",
       "        text-align: right;\n",
       "    }\n",
       "</style>\n",
       "<table border=\"1\" class=\"dataframe\">\n",
       "  <thead>\n",
       "    <tr style=\"text-align: right;\">\n",
       "      <th></th>\n",
       "      <th>School Name</th>\n",
       "      <th>Division</th>\n",
       "    </tr>\n",
       "  </thead>\n",
       "  <tbody>\n",
       "    <tr>\n",
       "      <th>0</th>\n",
       "      <td>South Lyon East</td>\n",
       "      <td>1</td>\n",
       "    </tr>\n",
       "    <tr>\n",
       "      <th>1</th>\n",
       "      <td>South Lyon</td>\n",
       "      <td>1</td>\n",
       "    </tr>\n",
       "    <tr>\n",
       "      <th>2</th>\n",
       "      <td>Ann Arbor Skyline</td>\n",
       "      <td>1</td>\n",
       "    </tr>\n",
       "    <tr>\n",
       "      <th>3</th>\n",
       "      <td>Dexter</td>\n",
       "      <td>1</td>\n",
       "    </tr>\n",
       "    <tr>\n",
       "      <th>4</th>\n",
       "      <td>Brighton</td>\n",
       "      <td>1</td>\n",
       "    </tr>\n",
       "  </tbody>\n",
       "</table>\n",
       "</div>"
      ],
      "text/plain": [
       "         School Name Division\n",
       "0    South Lyon East        1\n",
       "1         South Lyon        1\n",
       "2  Ann Arbor Skyline        1\n",
       "3             Dexter        1\n",
       "4           Brighton        1"
      ]
     },
     "execution_count": 4,
     "metadata": {},
     "output_type": "execute_result"
    }
   ],
   "source": [
    "## Display the dataframe\n",
    "df.info()\n",
    "\n",
    "df.head()"
   ]
  },
  {
   "cell_type": "code",
   "execution_count": 5,
   "metadata": {},
   "outputs": [
    {
     "data": {
      "text/plain": [
       "1    180\n",
       "3    180\n",
       "2    175\n",
       "4    175\n",
       "Name: Division, dtype: int64"
      ]
     },
     "execution_count": 5,
     "metadata": {},
     "output_type": "execute_result"
    }
   ],
   "source": [
    "### Division value counts\n",
    "df['Division'].value_counts()"
   ]
  },
  {
   "cell_type": "code",
   "execution_count": null,
   "metadata": {},
   "outputs": [],
   "source": []
  },
  {
   "cell_type": "code",
   "execution_count": null,
   "metadata": {},
   "outputs": [],
   "source": []
  },
  {
   "cell_type": "code",
   "execution_count": null,
   "metadata": {},
   "outputs": [],
   "source": []
  },
  {
   "cell_type": "code",
   "execution_count": null,
   "metadata": {},
   "outputs": [],
   "source": []
  },
  {
   "cell_type": "code",
   "execution_count": 6,
   "metadata": {},
   "outputs": [],
   "source": [
    "### Save the dataframe to a csv for future use\n",
    "df.to_csv('mhsaa_basketball_school_list_2023.csv', index=False)"
   ]
  },
  {
   "cell_type": "code",
   "execution_count": null,
   "metadata": {},
   "outputs": [],
   "source": []
  },
  {
   "cell_type": "code",
   "execution_count": null,
   "metadata": {},
   "outputs": [],
   "source": []
  },
  {
   "cell_type": "code",
   "execution_count": null,
   "metadata": {},
   "outputs": [],
   "source": []
  },
  {
   "cell_type": "code",
   "execution_count": 7,
   "metadata": {},
   "outputs": [],
   "source": [
    "## Get a list of all span classes\n",
    "# span_list = soup.find_all('span')\n",
    "\n",
    "## View the span list\n",
    "# span_list\n",
    "\n",
    "\n"
   ]
  },
  {
   "cell_type": "code",
   "execution_count": 8,
   "metadata": {},
   "outputs": [],
   "source": [
    "## Looking for these elements\n",
    "# <span class=\"tournschoolhov\">\n",
    "\n",
    "# school_names = soup.find_all('span', class_='tournschoolhov')\n",
    "\n",
    "# for i in range(len(school_names)):\n",
    "#     print(school_names[i].contents)\n",
    "\n",
    "\n",
    "## View the tournschoolhov list\n",
    "# school_names\n",
    "\n",
    "## clean up the list\n",
    "# drop any special characters\n",
    "\n",
    "\n"
   ]
  },
  {
   "cell_type": "code",
   "execution_count": null,
   "metadata": {},
   "outputs": [],
   "source": []
  }
 ],
 "metadata": {
  "kernelspec": {
   "display_name": "base",
   "language": "python",
   "name": "python3"
  },
  "language_info": {
   "codemirror_mode": {
    "name": "ipython",
    "version": 3
   },
   "file_extension": ".py",
   "mimetype": "text/x-python",
   "name": "python",
   "nbconvert_exporter": "python",
   "pygments_lexer": "ipython3",
   "version": "3.9.12"
  },
  "orig_nbformat": 4
 },
 "nbformat": 4,
 "nbformat_minor": 2
}
